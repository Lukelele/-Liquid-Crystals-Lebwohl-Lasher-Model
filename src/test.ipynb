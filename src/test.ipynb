{
 "cells": [
  {
   "cell_type": "code",
   "execution_count": 34,
   "metadata": {},
   "outputs": [],
   "source": [
    "import numpy as np\n",
    "import random"
   ]
  },
  {
   "cell_type": "code",
   "execution_count": 30,
   "metadata": {},
   "outputs": [],
   "source": [
    "def is_neighbour(x1, y1, x2, y2, nmax):\n",
    "    ixp = (x1+1)%nmax\n",
    "    ixm = (x1-1)%nmax\n",
    "    iyp = (y1+1)%nmax\n",
    "    iym = (y1-1)%nmax\n",
    "\n",
    "    if (x2 == ixp and y2 == y1) or (x2 == ixm and y2 == y1) or (x2 == x1 and y2 == iyp) or (x2 == x1 and y2 == iym) or (x2 == x1 and y2 == y1):\n",
    "        return True\n",
    "    else:\n",
    "        return False\n",
    "    \n",
    "\n",
    "def split_chunks(xran, yran, nmax):\n",
    "    chunks = []\n",
    "    for i in range(len(xran)):\n",
    "        for j in range(len(yran)):\n",
    "            ix = xran[i][j]\n",
    "            iy = yran[i][j]\n",
    "            placed = False\n",
    "            for chunk in chunks:\n",
    "                is_neighbor = False\n",
    "                for existing_x, existing_y in chunk:\n",
    "                    if is_neighbour(ix, iy, existing_x, existing_y, nmax):\n",
    "                        is_neighbor = True\n",
    "                        break\n",
    "                if not is_neighbor:\n",
    "                    chunk.append([ix, iy])\n",
    "                    placed = True\n",
    "                    break\n",
    "            if not placed:\n",
    "                chunks.append([[ix, iy]])\n",
    "    return chunks"
   ]
  },
  {
   "cell_type": "code",
   "execution_count": 31,
   "metadata": {},
   "outputs": [],
   "source": [
    "nmax = 3\n",
    "xran = np.random.randint(0, nmax, (nmax,nmax))\n",
    "yran = np.random.randint(0, nmax, (nmax,nmax))"
   ]
  },
  {
   "cell_type": "code",
   "execution_count": 32,
   "metadata": {},
   "outputs": [],
   "source": [
    "chunks = split_chunks(xran, yran, 6)"
   ]
  },
  {
   "cell_type": "code",
   "execution_count": 33,
   "metadata": {},
   "outputs": [
    {
     "data": {
      "text/plain": [
       "[[[2, 2], [1, 1], [0, 0], [2, 0]],\n",
       " [[0, 0], [2, 0]],\n",
       " [[2, 1]],\n",
       " [[2, 1]],\n",
       " [[2, 1]]]"
      ]
     },
     "execution_count": 33,
     "metadata": {},
     "output_type": "execute_result"
    }
   ],
   "source": [
    "chunks"
   ]
  },
  {
   "cell_type": "code",
   "execution_count": 45,
   "metadata": {},
   "outputs": [],
   "source": [
    "numpy_rng = np.random.default_rng(seed=42)  # For NumPy\n",
    "python_rng = random.Random(42)  # For Python's random"
   ]
  },
  {
   "cell_type": "code",
   "execution_count": 46,
   "metadata": {},
   "outputs": [],
   "source": [
    "rand_py = random.randint(0, nmax-1)\n",
    "rand_numpy = np.random.randint(0, nmax)"
   ]
  },
  {
   "cell_type": "code",
   "execution_count": 47,
   "metadata": {},
   "outputs": [
    {
     "data": {
      "text/plain": [
       "(1, 1)"
      ]
     },
     "execution_count": 47,
     "metadata": {},
     "output_type": "execute_result"
    }
   ],
   "source": [
    "rand_py, rand_numpy"
   ]
  },
  {
   "cell_type": "code",
   "execution_count": null,
   "metadata": {},
   "outputs": [],
   "source": []
  }
 ],
 "metadata": {
  "kernelspec": {
   "display_name": "torch",
   "language": "python",
   "name": "python3"
  },
  "language_info": {
   "codemirror_mode": {
    "name": "ipython",
    "version": 3
   },
   "file_extension": ".py",
   "mimetype": "text/x-python",
   "name": "python",
   "nbconvert_exporter": "python",
   "pygments_lexer": "ipython3",
   "version": "3.11.9"
  }
 },
 "nbformat": 4,
 "nbformat_minor": 2
}
